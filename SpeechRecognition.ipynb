{
 "cells": [
  {
   "cell_type": "code",
   "execution_count": 2,
   "id": "ae8d4d40",
   "metadata": {},
   "outputs": [],
   "source": [
    "import speech_recognition\n",
    "import pyttsx3"
   ]
  },
  {
   "cell_type": "code",
   "execution_count": 4,
   "id": "e9babb6a",
   "metadata": {},
   "outputs": [],
   "source": [
    "import pyaudio"
   ]
  },
  {
   "cell_type": "code",
   "execution_count": 18,
   "id": "b8b3d915",
   "metadata": {},
   "outputs": [],
   "source": [
    "def Speaknow(command):\n",
    "    voice = pyttsx3.init()\n",
    "    voice.say(command)\n",
    "    voice.runAndWait()"
   ]
  },
  {
   "cell_type": "code",
   "execution_count": 20,
   "id": "6191d06d",
   "metadata": {},
   "outputs": [
    {
     "name": "stdout",
     "output_type": "stream",
     "text": [
      "Listening...\n",
      "Say something!\n",
      "Recognizing...\n",
      "Did you say: how are you doing\n"
     ]
    }
   ],
   "source": [
    "sr = speech_recognition.Recognizer()\n",
    "\n",
    "with speech_recognition.Microphone() as mic:\n",
    "    print(\"Listening...\")\n",
    "    sr.adjust_for_ambient_noise(mic, duration=2)\n",
    "    print(\"Say something!\")\n",
    "    audio = sr.listen(mic, phrase_time_limit=7)  \n",
    "    print(\"Recognizing...\")\n",
    "\n",
    "try:\n",
    "    text = sr.recognize_google(audio)\n",
    "    print(\"Did you say:\", text.lower())\n",
    "except speech_recognition.WaitTimeoutError:\n",
    "    print(\"You didn't start speaking in time.\")\n",
    "except speech_recognition.UnknownValueError:  \n",
    "    print(\"Google could not understand the audio.\")\n",
    "except speech_recognition.RequestError as e:   \n",
    "    print(\"Could not request results; check your internet connection:\", e)\n",
    "\n",
    "Speaknow(text)"
   ]
  },
  {
   "cell_type": "code",
   "execution_count": null,
   "id": "015ef503",
   "metadata": {},
   "outputs": [],
   "source": []
  }
 ],
 "metadata": {
  "kernelspec": {
   "display_name": "Python 3",
   "language": "python",
   "name": "python3"
  },
  "language_info": {
   "codemirror_mode": {
    "name": "ipython",
    "version": 3
   },
   "file_extension": ".py",
   "mimetype": "text/x-python",
   "name": "python",
   "nbconvert_exporter": "python",
   "pygments_lexer": "ipython3",
   "version": "3.13.0"
  }
 },
 "nbformat": 4,
 "nbformat_minor": 5
}
