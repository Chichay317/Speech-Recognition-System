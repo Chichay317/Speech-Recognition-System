{
 "cells": [
  {
   "cell_type": "code",
   "execution_count": 1,
   "id": "4a79dec3",
   "metadata": {},
   "outputs": [],
   "source": [
    "import speech_recognition\n",
    "import pyttsx3\n",
    "import webbrowser"
   ]
  },
  {
   "cell_type": "code",
   "execution_count": 2,
   "id": "4404eed0",
   "metadata": {},
   "outputs": [],
   "source": [
    "import pyaudio"
   ]
  },
  {
   "cell_type": "code",
   "execution_count": 3,
   "id": "bb661dbe",
   "metadata": {},
   "outputs": [],
   "source": [
    "def Speaknow(command):\n",
    "    voice = pyttsx3.init()\n",
    "    voice.say(command)\n",
    "    voice.runAndWait()"
   ]
  },
  {
   "cell_type": "code",
   "execution_count": 4,
   "id": "5b3413fc",
   "metadata": {},
   "outputs": [
    {
     "name": "stdout",
     "output_type": "stream",
     "text": [
      "Adjusting for ambient noise...\n",
      "Listening for command...\n",
      "Recognized command: open YouTube\n"
     ]
    }
   ],
   "source": [
    "if __name__ == \"__main__\":\n",
    "    recognizer = speech_recognition.Recognizer()\n",
    "    microphone = speech_recognition.Microphone()\n",
    "\n",
    "    with microphone as source:\n",
    "        print(\"Adjusting for ambient noise...\")\n",
    "        recognizer.adjust_for_ambient_noise(source)\n",
    "        print(\"Listening for command...\")\n",
    "        audio = recognizer.listen(source)\n",
    "\n",
    "    try:\n",
    "        command = recognizer.recognize_google(audio)\n",
    "        print(f\"Recognized command: {command}\")\n",
    "\n",
    "        if \"open YouTube\" in command:\n",
    "            webbrowser.open(\"https://www.youtube.com\")\n",
    "            Speaknow(\"Opening YouTube\")\n",
    "        elif \"open Google\" in command:\n",
    "            webbrowser.open(\"https://www.google.com\")\n",
    "            Speaknow(\"Opening Google\")\n",
    "        else:\n",
    "            Speaknow(\"Command not recognized\")\n",
    "\n",
    "    except speech_recognition.UnknownValueError:\n",
    "        print(\"Sorry, I did not understand that.\")\n",
    "    except speech_recognition.RequestError as e:\n",
    "        print(f\"Could not request results; {e}\")"
   ]
  }
 ],
 "metadata": {
  "kernelspec": {
   "display_name": "Python 3",
   "language": "python",
   "name": "python3"
  },
  "language_info": {
   "codemirror_mode": {
    "name": "ipython",
    "version": 3
   },
   "file_extension": ".py",
   "mimetype": "text/x-python",
   "name": "python",
   "nbconvert_exporter": "python",
   "pygments_lexer": "ipython3",
   "version": "3.13.0"
  }
 },
 "nbformat": 4,
 "nbformat_minor": 5
}
