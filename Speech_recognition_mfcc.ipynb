{
 "cells": [
  {
   "cell_type": "code",
   "execution_count": 1,
   "id": "172d8ecc",
   "metadata": {},
   "outputs": [],
   "source": [
    "\n",
    "import numpy as np\n",
    "import librosa\n",
    "import matplotlib.pyplot as plt\n",
    "from sklearn.model_selection import train_test_split\n",
    "from sklearn.linear_model import LogisticRegression\n",
    "from sklearn.metrics import accuracy_score\n",
    "import glob\n",
    "import numpy as np\n",
    "import random\n",
    "from tqdm import tqdm"
   ]
  },
  {
   "cell_type": "code",
   "execution_count": 11,
   "id": "0eebc02a",
   "metadata": {},
   "outputs": [
    {
     "name": "stderr",
     "output_type": "stream",
     "text": [
      "Loading audio files:   0%|          | 0/200 [00:00<?, ?it/s]"
     ]
    },
    {
     "name": "stderr",
     "output_type": "stream",
     "text": [
      "Loading audio files: 100%|██████████| 200/200 [00:00<00:00, 1220.41it/s]\n"
     ]
    },
    {
     "name": "stdout",
     "output_type": "stream",
     "text": [
      "\n",
      "Loaded 400 audio samples successfully!\n"
     ]
    }
   ],
   "source": [
    "SR = 16000\n",
    "MAX_FILES = 500\n",
    "SAMPLE_SIZE = 200\n",
    "\n",
    "all_files = glob.glob(\"recordings/*.wav\")[:MAX_FILES]\n",
    "\n",
    "random.seed(42)\n",
    "sample_files = random.sample(all_files, SAMPLE_SIZE)\n",
    "\n",
    "signals, labels = [], []\n",
    "\n",
    "for f in tqdm(sample_files, desc=\"Loading audio files\"):\n",
    "    try:\n",
    "        y, _ = librosa.load(f, sr=SR)\n",
    "        y = y[:SR * 1]\n",
    "        signals.append(y)\n",
    "        label = f.split(\"\\\\\")[-1].split(\"_\")[0] if \"\\\\\" in f else f.split(\"/\")[-1].split(\"_\")[0]\n",
    "        labels.append(label)\n",
    "    except Exception as e:\n",
    "        print(f\"Skipping {f} due to error: {e}\")\n",
    "\n",
    "noisy_signals, noisy_labels = [], []\n",
    "\n",
    "for i, y in enumerate(signals):\n",
    "    noise = np.random.randn(len(y)).astype(np.float32) * 0.03\n",
    "    noisy_signals.append(y + noise)\n",
    "    noisy_labels.append(labels[i] + \"_noisy\")\n",
    "\n",
    "signals.extend(noisy_signals)\n",
    "labels.extend(noisy_labels)\n",
    "\n",
    "print(f\"\\nLoaded {len(signals)} audio samples successfully!\")"
   ]
  },
  {
   "cell_type": "code",
   "execution_count": 12,
   "id": "f9586524",
   "metadata": {},
   "outputs": [],
   "source": [
    "\n",
    "def extract_mfcc(sig, sr=16000):\n",
    "    mfcc = librosa.feature.mfcc(y=sig, sr=sr, n_mfcc=13)\n",
    "    return np.mean(mfcc, axis=1)\n",
    "\n",
    "X = np.array([extract_mfcc(s) for s in signals])\n",
    "y = np.array(labels)\n"
   ]
  },
  {
   "cell_type": "code",
   "execution_count": null,
   "id": "88c0a133",
   "metadata": {},
   "outputs": [
    {
     "name": "stdout",
     "output_type": "stream",
     "text": [
      "Accuracy: 0.9166666666666666\n"
     ]
    },
    {
     "name": "stderr",
     "output_type": "stream",
     "text": [
      "c:\\Users\\chidi\\AppData\\Local\\Programs\\Python\\Python313\\Lib\\site-packages\\sklearn\\linear_model\\_logistic.py:473: ConvergenceWarning: lbfgs failed to converge after 1000 iteration(s) (status=1):\n",
      "STOP: TOTAL NO. OF ITERATIONS REACHED LIMIT\n",
      "\n",
      "Increase the number of iterations to improve the convergence (max_iter=1000).\n",
      "You might also want to scale the data as shown in:\n",
      "    https://scikit-learn.org/stable/modules/preprocessing.html\n",
      "Please also refer to the documentation for alternative solver options:\n",
      "    https://scikit-learn.org/stable/modules/linear_model.html#logistic-regression\n",
      "  n_iter_i = _check_optimize_result(\n"
     ]
    }
   ],
   "source": [
    "\n",
    "X_train, X_test, y_train, y_test = train_test_split(X, y, test_size=0.3, random_state=42)\n",
    "model = LogisticRegression()\n",
    "model.fit(X_train, y_train)\n",
    "y_pred = model.predict(X_test)\n",
    "acc = accuracy_score(y_test, y_pred)\n",
    "print(\"Accuracy:\", acc)\n"
   ]
  },
  {
   "cell_type": "code",
   "execution_count": 14,
   "id": "2e047962",
   "metadata": {},
   "outputs": [
    {
     "data": {
      "image/png": "[encoded data removed]",
      "text/plain": [
       "<Figure size 640x480 with 1 Axes>"
      ]
     },
     "metadata": {},
     "output_type": "display_data"
    }
   ],
   "source": [
    "\n",
    "def add_noise(sig, noise_factor):\n",
    "    noise = np.random.randn(len(sig)) * noise_factor\n",
    "    return sig + noise\n",
    "\n",
    "noise_levels = [0, 0.02, 0.05, 0.1]\n",
    "accuracies = []\n",
    "\n",
    "for nf in noise_levels:\n",
    "    noisy = [add_noise(s, nf) for s in signals]\n",
    "    Xn = np.array([extract_mfcc(s) for s in noisy])\n",
    "    yn = model.predict(Xn)\n",
    "    accuracies.append(accuracy_score(y, yn))\n",
    "\n",
    "plt.plot(noise_levels, accuracies, marker='o')\n",
    "plt.xlabel(\"Noise Level\")\n",
    "plt.ylabel(\"Accuracy\")\n",
    "plt.title(\"Model Accuracy vs Noise Level\")\n",
    "plt.show()\n"
   ]
  }
 ],
 "metadata": {
  "kernelspec": {
   "display_name": "Python 3",
   "language": "python",
   "name": "python3"
  },
  "language_info": {
   "codemirror_mode": {
    "name": "ipython",
    "version": 3
   },
   "file_extension": ".py",
   "mimetype": "text/x-python",
   "name": "python",
   "nbconvert_exporter": "python",
   "pygments_lexer": "ipython3",
   "version": "3.13.0"
  }
 },
 "nbformat": 4,
 "nbformat_minor": 5
}
